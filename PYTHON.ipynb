{
 "cells": [
  {
   "cell_type": "markdown",
   "id": "7a53e84e-f954-494b-85da-9fae3f9a01af",
   "metadata": {},
   "source": [
    "## Q1- Who developed python programming language?"
   ]
  },
  {
   "cell_type": "markdown",
   "id": "b79bfb73-6129-4125-942f-7739a344baef",
   "metadata": {},
   "source": [
    "Ans-Python was created by Guido van Rossum, and first released on February 20, 1991. "
   ]
  },
  {
   "cell_type": "markdown",
   "id": "2f633636-ee6d-46ca-a250-691bfe4c19af",
   "metadata": {},
   "source": [
    "## Q2- Which type of programming does python support?"
   ]
  },
  {
   "cell_type": "markdown",
   "id": "503a3887-6905-47cc-8921-667b13621070",
   "metadata": {},
   "source": [
    "Abs-Python is a multi-paradigm programming language. Object-oriented programming and structured programming are fully supported, and many of their features support functional programming and aspect-oriented programming (including metaprogramming and metaobjects)."
   ]
  },
  {
   "cell_type": "markdown",
   "id": "277d3605-7826-4be4-b255-c292e7d3d37a",
   "metadata": {},
   "source": [
    "## Q3-Is python case sensitive when dealing with identifiers?"
   ]
  },
  {
   "cell_type": "markdown",
   "id": "98e62d39-5e8d-4bcc-a893-60f8f7160817",
   "metadata": {},
   "source": [
    "Ans-Yes, Python is a case-sensitive language, so identifiers are case-sensitive. That is, it considers uppercase and lowercase characters differently. The property is useful while naming identifiers to make the code more readable and maintainable."
   ]
  },
  {
   "cell_type": "markdown",
   "id": "618c2ce0-7cea-4b1f-8239-db1413ca44e7",
   "metadata": {},
   "source": [
    "## Q4-What is the correct extension of the python file?"
   ]
  },
  {
   "cell_type": "markdown",
   "id": "ee6a3e76-93e8-40fe-9565-8c62c62dd7b0",
   "metadata": {},
   "source": [
    "Ans-The Files with the . py extension contain the Python source code. The Python language has become very famous language now a days. It can be used for system scripting, web and software development and mathematics."
   ]
  },
  {
   "cell_type": "markdown",
   "id": "94318232-70f5-48c1-a6dc-26cabae0ca69",
   "metadata": {},
   "source": [
    "## Q5- Is python code compiled or interpreted?"
   ]
  },
  {
   "cell_type": "markdown",
   "id": "96ec0d0e-3353-4d2b-a6bf-ef6eff66c01c",
   "metadata": {},
   "source": [
    "Ans-Python is an interpreted language, which means the source code of a Python program is converted into bytecode that is then executed by the Python virtual machine. Python is different from major compiled languages, such as C and C + +, as Python code is not required to be built and linked like code for these languages."
   ]
  },
  {
   "cell_type": "markdown",
   "id": "d00a23bd-4c0d-4d85-8f1a-38924d1f6b54",
   "metadata": {},
   "source": [
    "## Q6-Name a few blocks of code used to define in pythonlanguage?"
   ]
  },
  {
   "cell_type": "markdown",
   "id": "fa662bed-6c8f-4193-93f8-685250aac0ce",
   "metadata": {},
   "source": [
    "Ans-Structure of a program. A Python program is constructed from code blocks. A block is a piece of Python program text that is executed as a unit. The following are blocks: a module, a function body, and a class definition."
   ]
  },
  {
   "cell_type": "markdown",
   "id": "4b74b760-ce5b-480c-ba33-9f3595935e3f",
   "metadata": {},
   "source": [
    "## Q7- State a character used to give single-line comments in python?"
   ]
  },
  {
   "cell_type": "markdown",
   "id": "f0d2ab51-1d12-4d6e-8c09-462356e9408a",
   "metadata": {},
   "source": [
    "Ans-Python offers a pretty simple and straightforward way to write a comment. We can write a single-line comment by adding a single # character before any statement or line of code."
   ]
  },
  {
   "cell_type": "code",
   "execution_count": null,
   "id": "8f89f3b4-b6f5-4d5f-b24b-9d506a19bcd4",
   "metadata": {},
   "outputs": [],
   "source": []
  },
  {
   "cell_type": "markdown",
   "id": "f4a5d06d-bdfc-4723-aafa-aa080b997319",
   "metadata": {},
   "source": [
    "## Q8-Mention functions which can help us to find the version of python that we are currently working on?"
   ]
  },
  {
   "cell_type": "markdown",
   "id": "6d8e46a8-34ad-4d77-b031-ee8dc4c29dde",
   "metadata": {},
   "source": [
    "Ans-The function sys. version can help us to find the version of python that we are currently working on. It also contains information on the build number and compiler used."
   ]
  },
  {
   "cell_type": "code",
   "execution_count": null,
   "id": "c4c81484-9c11-41cb-9d24-2ee303cd6f13",
   "metadata": {},
   "outputs": [],
   "source": []
  },
  {
   "cell_type": "markdown",
   "id": "ab7c2ecb-b106-4a03-8beb-0261323717a1",
   "metadata": {},
   "source": [
    "## Q9- Python supports the creation of anonymous function at runtime,using a construct called........"
   ]
  },
  {
   "cell_type": "markdown",
   "id": "c5981608-1ffe-45c9-bbbb-11a6f731f44a",
   "metadata": {},
   "source": [
    "Ans-Python supports the creation of anonymous functions (i.e. functions that are not bound to a name) at runtime, using a construct called lambda."
   ]
  },
  {
   "cell_type": "code",
   "execution_count": null,
   "id": "a5f8384d-2ff0-4d85-be0c-f06deeceaf93",
   "metadata": {},
   "outputs": [],
   "source": []
  },
  {
   "cell_type": "markdown",
   "id": "3229d14c-4ad2-43f1-8ff1-fc49fe92d017",
   "metadata": {},
   "source": [
    "## Q10- What does pip stand for python?"
   ]
  },
  {
   "cell_type": "markdown",
   "id": "e5785f39-72f2-4e41-afed-e29f4e079612",
   "metadata": {},
   "source": [
    "Ans-PIP is a recursive acronym for “Preferred Installer Program” or PIP Installs Packages. It is a command-line utility that installs, reinstalls, or uninstalls PyPI packages with one simple command: pip"
   ]
  },
  {
   "cell_type": "code",
   "execution_count": null,
   "id": "aa4cd6b1-fa03-468c-ad68-e795d3718e95",
   "metadata": {},
   "outputs": [],
   "source": []
  },
  {
   "cell_type": "markdown",
   "id": "1d493637-b7eb-4667-b8ec-47956203658f",
   "metadata": {},
   "source": [
    "## Q11-Mention a few built-in functions in python?"
   ]
  },
  {
   "cell_type": "markdown",
   "id": "509c0ea8-bc6c-42c2-8e1e-dd95e7548c59",
   "metadata": {},
   "source": [
    "Ans-print( ) function. The print() function prints the specified message to the screen or another standard output device. ...\n",
    "type( ) function. ...\n",
    "input( ) function. ...\n",
    "abs( ) function. ...\n",
    "pow( ) function. ...\n",
    "dir( ) function. ...\n",
    "sorted( ) function. ...\n",
    "max( ) function."
   ]
  },
  {
   "cell_type": "code",
   "execution_count": null,
   "id": "2de89cc8-bacb-4568-976e-8e10f6017591",
   "metadata": {},
   "outputs": [],
   "source": []
  },
  {
   "cell_type": "markdown",
   "id": "31758563-4ffc-4a8a-96be-18344f72e739",
   "metadata": {},
   "source": [
    "## Q12-What is the maximum possible length of an identifier in python?"
   ]
  },
  {
   "cell_type": "markdown",
   "id": "54b41550-115a-41f7-a2b2-e9cb9ba27e80",
   "metadata": {},
   "source": [
    "ANS-An identifier can have a maximum length of 79 characters in Python. Python is one of the most popular programming languages. Guido van Rossum created it, and it was released in 1991."
   ]
  },
  {
   "cell_type": "code",
   "execution_count": null,
   "id": "0b99ef59-99d2-44be-95e0-e1e216bd7497",
   "metadata": {},
   "outputs": [],
   "source": []
  },
  {
   "cell_type": "markdown",
   "id": "0b169e2e-c13a-4306-ae0a-a0f611cc226b",
   "metadata": {},
   "source": [
    "## Q13-What are the benefits of using python?"
   ]
  },
  {
   "cell_type": "markdown",
   "id": "63e3ba16-d2b0-464a-93a8-f3cebd36be71",
   "metadata": {},
   "source": [
    "Ans-Ans-Presence of third-party modules.\n",
    "\n",
    "Extensive support libraries(NumPy for numerical calculations, Pandas for data analytics, etc.)\n",
    "\n",
    "Open source and large active community base.\n",
    "\n",
    "Versatile, Easy to read, learn and write.\n",
    "\n",
    "User-friendly data structures.\n",
    "\n",
    "High-level language."
   ]
  },
  {
   "cell_type": "code",
   "execution_count": null,
   "id": "1efd00c5-56b2-4722-a8f6-5825071e4a24",
   "metadata": {},
   "outputs": [],
   "source": []
  },
  {
   "cell_type": "markdown",
   "id": "626a2314-fd2d-4fe3-a5fb-cda05eae95b0",
   "metadata": {},
   "source": [
    "## Q14-How is memory managed in python?"
   ]
  },
  {
   "cell_type": "markdown",
   "id": "cf5f6347-6ce9-402b-904f-71e8e298dba5",
   "metadata": {},
   "source": [
    "Ans-Memory management in Python involves a private heap containing all Python objects and data structures. The management of this private heap is ensured internally by the Python memory manager."
   ]
  },
  {
   "cell_type": "code",
   "execution_count": null,
   "id": "e9df6c7e-b82b-4397-beb6-019903ecbb3d",
   "metadata": {},
   "outputs": [],
   "source": []
  },
  {
   "cell_type": "markdown",
   "id": "8cc759dd-cce4-481f-a95a-791a56f37095",
   "metadata": {},
   "source": [
    "## Q15-How to install python on windows and set path variables?"
   ]
  },
  {
   "cell_type": "markdown",
   "id": "37c92bd8-4448-4411-ba3b-8bb478865af7",
   "metadata": {},
   "source": [
    "Ans-The complete path of python.exe can be added by:\n",
    "\n",
    "1.Right-clicking This PC and going to Properties.\n",
    "\n",
    "\n",
    "2.Clicking on the Advanced system settings in the menu on the left.\n",
    "\n",
    "\n",
    "3.Clicking on the Environment Variables button o​n the bottom right.\n",
    "\n",
    "\n",
    "4.In the System variables section, selecting the Path variable and clicking on Edit. The next screen will show all the directories that are currently a part of the PATH variable.\n",
    "\n",
    "\n",
    "5.Clicking on New and entering Python’s install directory\n",
    ".\n",
    "\n",
    "Python can now be used directly from the command prompt without having to write its location. Try executing the command python --version; it will output the version of Python installed on your system."
   ]
  },
  {
   "cell_type": "code",
   "execution_count": null,
   "id": "0ed321d7-4a97-4793-b230-58f54464cf77",
   "metadata": {},
   "outputs": [],
   "source": []
  },
  {
   "cell_type": "markdown",
   "id": "94bf9e66-8212-4ad8-855f-ed11889633e9",
   "metadata": {},
   "source": [
    "## Q16-Is indentation required in python?"
   ]
  },
  {
   "cell_type": "markdown",
   "id": "5af5ccff-11de-4f93-a083-9f644948e6f5",
   "metadata": {},
   "source": [
    "Ans-Python Indentation Rules\n",
    "The first line of python code cannot have an indentation. Indentation is mandatory in python to define the blocks of statements. The number of spaces must be uniform in a block of code. It is preferred to use whitespaces instead of tabs to indent in python."
   ]
  },
  {
   "cell_type": "code",
   "execution_count": null,
   "id": "c2535d95-929d-4678-8d07-a3b24f5a683e",
   "metadata": {},
   "outputs": [],
   "source": []
  }
 ],
 "metadata": {
  "kernelspec": {
   "display_name": "Python 3 (ipykernel)",
   "language": "python",
   "name": "python3"
  },
  "language_info": {
   "codemirror_mode": {
    "name": "ipython",
    "version": 3
   },
   "file_extension": ".py",
   "mimetype": "text/x-python",
   "name": "python",
   "nbconvert_exporter": "python",
   "pygments_lexer": "ipython3",
   "version": "3.10.8"
  }
 },
 "nbformat": 4,
 "nbformat_minor": 5
}
