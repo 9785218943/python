{
 "cells": [
  {
   "cell_type": "markdown",
   "id": "ebf3012a-def8-4f89-8b2f-541bd68a03d7",
   "metadata": {},
   "source": [
    "## Q1. What is an API? Give an example, where an API is used in real life."
   ]
  },
  {
   "cell_type": "markdown",
   "id": "19d94ec5-7821-4a9c-b456-a6f290f623e0",
   "metadata": {},
   "source": [
    "Ans- An API allows two software applications to interact with each other by sharing data and functionality. An API acts as a mediator between two applications, enabling them to communicate with each other.\n",
    "Companies of all sizes can utilize APIs for website analytics, project and team management tools, online payment systems, and for many other operational solutions.\n",
    "\n",
    "Analytics. Google Analytics is a part of the Google Cloud API Platform and offers multiple API options that businesses can use for analytics. The most common APIs used are Core Reporting API and Management API.\n",
    "Project and Team Management. Tools like Jira, Basecamp, and Microsoft Teams provide communication between coworkers and data sharing functionality — and that all happens through API.\n",
    "Online Payment Systems. Where digital money transfers occur, there is an API supporting the process. Many organizations choose to utilize APIs from a firm such as PayPal to provide secure, safe money transfers to their customers."
   ]
  },
  {
   "cell_type": "markdown",
   "id": "cd84566d-00d3-428c-98b0-6900ebb9a840",
   "metadata": {},
   "source": [
    "## Q2. Give advantages and disadvantages of using API."
   ]
  },
  {
   "cell_type": "markdown",
   "id": "5fe95f97-063e-4552-a9fa-6ad053c486d0",
   "metadata": {},
   "source": [
    "API's are essential tools for businesses — they streamline organizational operations, and provide strategic value such as additional exposure for your brand and increased revenue. APIs are a new type of ecosystem, allowing companies to expand into new markets where they can use them for more than just technical concepts.\n",
    "\n",
    "API Disadvantages\n",
    "\n",
    "There is a lot of conveniences and advantages to APIs, but business leaders should also be aware of the disadvantages. As a single point of entry, an API is a gateway and can become a hacker's primary target. Once the API is compromised, all other applications and systems become vulnerable.\n",
    "\n",
    "Nine of the top ten vulnerabilities listed in the OWASP Top 10 now mention APIs — and since APIs can be accessed over the internet, they will have all the same disadvantages as any other Internet-based resource.  APIs are vulnerable to man-in-the-middle attacks, CSRF attacks, XSS attacks, SQL injection, and DDoS attacks.\n",
    "\n"
   ]
  },
  {
   "cell_type": "markdown",
   "id": "ceb77ce0-a85b-475a-93b8-a817fd12e42a",
   "metadata": {},
   "source": [
    "## Q3. What is a Web API? Differentiate between API and Web API."
   ]
  },
  {
   "cell_type": "markdown",
   "id": "7143d925-45c9-4d78-a35d-c47bdf0b66bf",
   "metadata": {},
   "source": [
    "Ans-A Web API is a set of standards and protocols for accessing web-based software applications or web tools. It provides a way for different software systems to communicate with each other over the internet."
   ]
  },
  {
   "cell_type": "markdown",
   "id": "aa33f806-3d15-475e-9fca-d60951fa748e",
   "metadata": {},
   "source": [
    "Web APIs are commonly used for accessing databases and servers, as well as integrating third-party services and data into applications. Web APIs provide a standardized way for different software systems to communicate and exchange data over the internet, allowing developers to create applications that can access and use functionality provided by other systems. Some common use cases for web APIs include accessing weather data, social media platforms, financial information, and location-based services, among many others. By using web APIs, developers can save time and resources by leveraging existing functionality and data, rather than building everything from scratch."
   ]
  },
  {
   "cell_type": "markdown",
   "id": "dd75259b-48aa-4bb5-a044-8fb2ab4acc9f",
   "metadata": {},
   "source": [
    "## Q4. Explain REST and SOAP Architecture. Mention shortcomings of SOAP."
   ]
  },
  {
   "cell_type": "markdown",
   "id": "4083a1a5-7b0c-441f-8426-b727752c4946",
   "metadata": {},
   "source": [
    "REST stands for Representational State Transfer and is a software architecture style for creating scalable web services. RESTful web services use HTTP protocols and return data in the form of JSON or XML. RESTful architecture is designed to be lightweight and easy to use, making it a popular choice for building web-based applications and APIs.\n",
    "\n",
    "SOAP stands for Simple Object Access Protocol and is a protocol for sending and receiving messages between applications. SOAP messages are typically sent over HTTP or other transport protocols and are formatted in XML. SOAP is designed to provide a secure and reliable way for applications to communicate with each other, making it a popular choice for building web-based services."
   ]
  },
  {
   "cell_type": "markdown",
   "id": "2b20e768-8a47-415d-a445-b56b8f21ebad",
   "metadata": {},
   "source": [
    " REST architecture provides several benefits, including being lightweight and easy to use, as well as providing a standardized way for applications to communicate with each other. RESTful web services use HTTP protocols and return data in the form of JSON or XML, making them accessible to a wide range of applications, including web, mobile, and desktop.\n",
    " \n",
    " SOAP provides a standardized way for applications to communicate with each other, making it a reliable and secure choice for building web-based services. SOAP messages are typically sent over HTTP or other transport protocols and are formatted in XML, providing a consistent and well-documented way for applications to exchange data and functionality."
   ]
  },
  {
   "cell_type": "markdown",
   "id": "e372f8c1-c310-4f48-bce9-4b9b356dafac",
   "metadata": {},
   "source": [
    "Restful services,also known as RESTFUL APIs, are web services that follow the REST architectural style.REST stands for Representational State Transfer protocol.\n",
    "RESTFUL, services are based on the following principles:\n",
    "Client-server architecture:The client and server are separated,allowing them to evolve independently.\n",
    "Stateless:Each request sent to the server contains all the information needed to complete the request.The server doed not maintain any client cintext between requests.\n",
    "Cacheable:Responses from the server can be cached to improve performance.\n",
    "Uniform interface:RESTFUL,services use a uniform interface consisting of resources,HTTP verbs(GET,POST,PUT,DELETE) AND HYPERMEDIA LINKS.\n",
    "Layered system;RESTFUL services can be composed of multiple layers,allowing for scalabilty,flexibility and security."
   ]
  },
  {
   "cell_type": "code",
   "execution_count": null,
   "id": "6be7d470-3fde-4ab2-b138-cd89779b2348",
   "metadata": {},
   "outputs": [],
   "source": []
  },
  {
   "cell_type": "code",
   "execution_count": null,
   "id": "0ab76634-780a-41e7-b3e1-7ae97114a530",
   "metadata": {},
   "outputs": [],
   "source": []
  },
  {
   "cell_type": "code",
   "execution_count": null,
   "id": "a33d29aa-a63a-4839-9c09-21a3c51764b3",
   "metadata": {},
   "outputs": [],
   "source": []
  },
  {
   "cell_type": "markdown",
   "id": "412b6182-2db6-47ff-a132-46c1ad79c0df",
   "metadata": {},
   "source": [
    "## Q5. Differentiate between REST and SOAP."
   ]
  },
  {
   "cell_type": "markdown",
   "id": "13d645d4-9c61-44dd-83de-d0123668996f",
   "metadata": {},
   "source": [
    "REST stands for Representational State Transfer and is a software architecture style for creating scalable web services. RESTful web services use HTTP protocols and return data in the form of JSON or XML. RESTful architecture is designed to be lightweight and easy to use, making it a popular choice for building web-based applications and APIs."
   ]
  },
  {
   "cell_type": "markdown",
   "id": "eb23db19-91cf-4ccd-b507-e9c7a1208e63",
   "metadata": {},
   "source": [
    "SOAP stands for Simple Object Access Protocol and is a protocol for sending and receiving messages between applications. SOAP messages are typically sent over HTTP or other transport protocols and are formatted in XML. SOAP is designed to provide a secure and reliable way for applications to communicate with each other, making it a popular choice for building web-based services."
   ]
  },
  {
   "cell_type": "code",
   "execution_count": null,
   "id": "b3e92a0b-1bca-4db7-899b-3dfed25fe9cd",
   "metadata": {},
   "outputs": [],
   "source": []
  },
  {
   "cell_type": "code",
   "execution_count": null,
   "id": "27b7fd6b-84af-448b-a494-b85b170c6ca8",
   "metadata": {},
   "outputs": [],
   "source": []
  }
 ],
 "metadata": {
  "kernelspec": {
   "display_name": "Python 3 (ipykernel)",
   "language": "python",
   "name": "python3"
  },
  "language_info": {
   "codemirror_mode": {
    "name": "ipython",
    "version": 3
   },
   "file_extension": ".py",
   "mimetype": "text/x-python",
   "name": "python",
   "nbconvert_exporter": "python",
   "pygments_lexer": "ipython3",
   "version": "3.10.8"
  }
 },
 "nbformat": 4,
 "nbformat_minor": 5
}
